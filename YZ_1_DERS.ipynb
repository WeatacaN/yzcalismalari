{
  "nbformat": 4,
  "nbformat_minor": 0,
  "metadata": {
    "colab": {
      "provenance": []
    },
    "kernelspec": {
      "name": "python3",
      "display_name": "Python 3"
    },
    "language_info": {
      "name": "python"
    }
  },
  "cells": [
    {
      "cell_type": "markdown",
      "source": [
        "03.10.2024 - IGU MYO YAPAY ZEKA DERSI ILK CIKISIDIR.\n"
      ],
      "metadata": {
        "id": "crx9gjkCf9oZ"
      }
    },
    {
      "cell_type": "code",
      "execution_count": null,
      "metadata": {
        "colab": {
          "base_uri": "https://localhost:8080/"
        },
        "id": "_ST9UrByeQr_",
        "outputId": "98d75893-9472-4e85-ac2d-3383b5d51029"
      },
      "outputs": [
        {
          "output_type": "stream",
          "name": "stdout",
          "text": [
            "merhaba IGU YZ - MYO BILGISAYAR TEKNOLOJISI PROG.\n"
          ]
        }
      ],
      "source": [
        "print(\"merhaba IGU YZ - MYO BILGISAYAR TEKNOLOJISI PROG.\") # IGU MYO"
      ]
    },
    {
      "cell_type": "code",
      "source": [
        "import sys # import python programlama dılınde yazılıma kütüphaneye eklemeye yarar\n",
        "print (sys.version)"
      ],
      "metadata": {
        "colab": {
          "base_uri": "https://localhost:8080/"
        },
        "id": "vTyYlF54qSwv",
        "outputId": "b90c5a73-3d28-461c-ec09-c599a4915fd7"
      },
      "execution_count": null,
      "outputs": [
        {
          "output_type": "stream",
          "name": "stdout",
          "text": [
            "3.10.12 (main, Sep 11 2024, 15:47:36) [GCC 11.4.0]\n"
          ]
        }
      ]
    }
  ]
}